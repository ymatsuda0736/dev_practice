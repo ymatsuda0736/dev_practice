{
 "cells": [
  {
   "cell_type": "code",
   "execution_count": 1,
   "id": "716cc070",
   "metadata": {},
   "outputs": [
    {
     "name": "stdout",
     "output_type": "stream",
     "text": [
      "☀️ 成功: 「test_8の最大公約数は8」\n",
      "☀️ 成功: 「test_1と1の最大公約数は1」\n",
      "☀️ 成功: 「test_3と7の最大公約数は1」\n",
      "☀️ 成功: 「test_マイナス3と7の最大公約数は1」\n",
      "☀️ 成功: 「test_0と7の最大公約数は7」\n",
      "☀️ 成功: 「test_7と0の最大公約数は7」\n",
      "☀️ 成功: 「test_0と0の最大公約数は0」\n",
      "☀️ 成功: 「test_2と10の最大公約数は2」\n",
      "☀️ 成功: 「test_マイナス2と10の最大公約数は2」\n",
      "☀️ 成功: 「test_2と4と18の最大公約数は2」\n",
      "☀️ 成功: 「test_3と4と18の最大公約数は1」\n",
      "☀️ 成功: 「test_0と0と18の最大公約数は18」\n",
      "☀️ 成功: 「test_0と0と0の最大公約数は0」\n",
      "☀️ 成功: 「test_速度_10000000と10の最大公約数を0_01秒以内」\n",
      "☀️ 成功: 「test_速度_10000000と20000000の最大公約数を0_01秒以内」\n",
      "☀️ 成功: 「test_速度_293999と294013の2つの大きい素数の最大公約数を0_01秒以内」\n",
      "☔️ 失敗: 「test_エラー_小数は受け付けない」: inputs must be integer\n"
     ]
    }
   ],
   "source": [
    "from test_class import GreatestCommonDivisorTester\n",
    "GreatestCommonDivisorTester().test()"
   ]
  },
  {
   "cell_type": "code",
   "execution_count": 6,
   "id": "bf3ca0f4",
   "metadata": {},
   "outputs": [
    {
     "data": {
      "text/plain": [
       "3"
      ]
     },
     "execution_count": 6,
     "metadata": {},
     "output_type": "execute_result"
    }
   ],
   "source": [
    "from gmd import GCDCalculator\n",
    "\n",
    "n1 = 3\n",
    "n2 = 3\n",
    "GCDCalculator(l).calc()"
   ]
  },
  {
   "cell_type": "code",
   "execution_count": null,
   "id": "0d2e0ac3",
   "metadata": {},
   "outputs": [],
   "source": []
  },
  {
   "cell_type": "code",
   "execution_count": null,
   "id": "b4201203",
   "metadata": {},
   "outputs": [],
   "source": []
  }
 ],
 "metadata": {
  "kernelspec": {
   "display_name": "Python 3 (ipykernel)",
   "language": "python",
   "name": "python3"
  },
  "language_info": {
   "codemirror_mode": {
    "name": "ipython",
    "version": 3
   },
   "file_extension": ".py",
   "mimetype": "text/x-python",
   "name": "python",
   "nbconvert_exporter": "python",
   "pygments_lexer": "ipython3",
   "version": "3.9.10 (main, Jan 15 2022, 11:40:53) \n[Clang 13.0.0 (clang-1300.0.29.3)]"
  },
  "vscode": {
   "interpreter": {
    "hash": "b0fa6594d8f4cbf19f97940f81e996739fb7646882a419484c72d19e05852a7e"
   }
  }
 },
 "nbformat": 4,
 "nbformat_minor": 5
}
