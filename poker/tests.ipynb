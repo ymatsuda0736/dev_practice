{
 "cells": [
  {
   "cell_type": "code",
   "execution_count": 8,
   "metadata": {},
   "outputs": [
    {
     "name": "stdout",
     "output_type": "stream",
     "text": [
      "♣︎12\n",
      "♦︎6\n",
      "♦︎11\n",
      "♣︎13\n",
      "❤️10\n",
      "❤️3\n",
      "♣︎2\n",
      "♣︎11\n",
      "♠︎2\n",
      "♦︎5\n",
      "♠︎4\n",
      "♣︎9\n",
      "♦︎4\n",
      "❤️1\n",
      "♠︎10\n",
      "♦︎1\n",
      "♠︎7\n",
      "♦︎10\n",
      "❤️4\n",
      "♠︎11\n",
      "♣︎6\n",
      "♠︎6\n",
      "♦︎2\n",
      "♠︎12\n",
      "♠︎3\n",
      "♦︎3\n",
      "❤️13\n",
      "❤️11\n",
      "❤️12\n",
      "❤️8\n",
      "♣︎8\n",
      "❤️5\n",
      "❤️9\n",
      "♦︎7\n",
      "♦︎13\n",
      "♠︎9\n",
      "❤️7\n",
      "♣︎5\n",
      "♣︎4\n",
      "♣︎1\n",
      "♠︎1\n",
      "♠︎13\n",
      "❤️2\n",
      "♠︎5\n",
      "♠︎8\n",
      "♦︎9\n",
      "♣︎3\n",
      "❤️6\n",
      "♦︎12\n",
      "♣︎10\n",
      "♦︎8\n",
      "♣︎7\n"
     ]
    },
    {
     "ename": "ValueError",
     "evalue": "カードがもうありません!!",
     "output_type": "error",
     "traceback": [
      "\u001b[0;31m---------------------------------------------------------------------------\u001b[0m",
      "\u001b[0;31mValueError\u001b[0m                                Traceback (most recent call last)",
      "\u001b[1;32mセル1 を /Users/yukim/github/dev_practice/poker/tests.ipynb\u001b[0m in \u001b[0;36m<cell line: 4>\u001b[0;34m()\u001b[0m\n\u001b[1;32m      <a href='vscode-notebook-cell:/Users/yukim/github/dev_practice/poker/tests.ipynb#W0sZmlsZQ%3D%3D?line=2'>3</a>\u001b[0m deck\u001b[39m.\u001b[39mshuffle()\n\u001b[1;32m      <a href='vscode-notebook-cell:/Users/yukim/github/dev_practice/poker/tests.ipynb#W0sZmlsZQ%3D%3D?line=3'>4</a>\u001b[0m \u001b[39mfor\u001b[39;00m _ \u001b[39min\u001b[39;00m \u001b[39mrange\u001b[39m(\u001b[39m100\u001b[39m):\n\u001b[0;32m----> <a href='vscode-notebook-cell:/Users/yukim/github/dev_practice/poker/tests.ipynb#W0sZmlsZQ%3D%3D?line=4'>5</a>\u001b[0m     card \u001b[39m=\u001b[39m deck\u001b[39m.\u001b[39;49mdraw()\n\u001b[1;32m      <a href='vscode-notebook-cell:/Users/yukim/github/dev_practice/poker/tests.ipynb#W0sZmlsZQ%3D%3D?line=5'>6</a>\u001b[0m     \u001b[39mprint\u001b[39m(card)\n",
      "File \u001b[0;32m~/github/dev_practice/poker/instruments.py:63\u001b[0m, in \u001b[0;36mDeck.draw\u001b[0;34m(self)\u001b[0m\n\u001b[1;32m     61\u001b[0m \u001b[39mdef\u001b[39;00m \u001b[39mdraw\u001b[39m(\u001b[39mself\u001b[39m):\n\u001b[1;32m     62\u001b[0m     \u001b[39mif\u001b[39;00m \u001b[39mlen\u001b[39m(\u001b[39mself\u001b[39m\u001b[39m.\u001b[39mcards) \u001b[39m==\u001b[39m \u001b[39m0\u001b[39m:\n\u001b[0;32m---> 63\u001b[0m         \u001b[39mraise\u001b[39;00m \u001b[39mValueError\u001b[39;00m(\u001b[39m\"\u001b[39m\u001b[39mカードがもうありません!!\u001b[39m\u001b[39m\"\u001b[39m)\n\u001b[1;32m     64\u001b[0m     \u001b[39mreturn\u001b[39;00m \u001b[39mself\u001b[39m\u001b[39m.\u001b[39mcards\u001b[39m.\u001b[39mpop(\u001b[39m0\u001b[39m)\n",
      "\u001b[0;31mValueError\u001b[0m: カードがもうありません!!"
     ]
    }
   ],
   "source": [
    "from instruments import Deck, Chip\n",
    "deck = Deck()\n",
    "deck.shuffle()\n",
    "for _ in range(100):\n",
    "    card = deck.draw()\n",
    "    print(card)"
   ]
  },
  {
   "cell_type": "code",
   "execution_count": null,
   "metadata": {},
   "outputs": [],
   "source": []
  }
 ],
 "metadata": {
  "kernelspec": {
   "display_name": "Python 3",
   "language": "python",
   "name": "python3"
  },
  "language_info": {
   "codemirror_mode": {
    "name": "ipython",
    "version": 3
   },
   "file_extension": ".py",
   "mimetype": "text/x-python",
   "name": "python",
   "nbconvert_exporter": "python",
   "pygments_lexer": "ipython3",
   "version": "3.9.10"
  },
  "orig_nbformat": 4,
  "vscode": {
   "interpreter": {
    "hash": "b0fa6594d8f4cbf19f97940f81e996739fb7646882a419484c72d19e05852a7e"
   }
  }
 },
 "nbformat": 4,
 "nbformat_minor": 2
}
