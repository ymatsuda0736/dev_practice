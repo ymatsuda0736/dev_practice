{
 "cells": [
  {
   "cell_type": "code",
   "execution_count": 1,
   "id": "716cc070",
   "metadata": {},
   "outputs": [
    {
     "name": "stdout",
     "output_type": "stream",
     "text": [
      "☀️ 成功: 「test_1と1の最大公約数は1」\n",
      "☀️ 成功: 「test_3と7の最大公約数は1」\n",
      "☀️ 成功: 「test_マイナス3と7の最大公約数は1」\n",
      "☀️ 成功: 「test_0と7の最大公約数は7」\n",
      "☀️ 成功: 「test_0と0の最大公約数は0」\n",
      "☀️ 成功: 「test_2と10の最大公約数は2」\n",
      "☀️ 成功: 「test_マイナス2と10の最大公約数は2」\n",
      "☔️ 失敗: 「test_速度_10000000と10の最大公約数を0_01秒以内」: elapsed: 「0.446816 seconds」\n"
     ]
    }
   ],
   "source": [
    "from tests import GreatestCommonDivisorTester\n",
    "GreatestCommonDivisorTester().test()"
   ]
  },
  {
   "cell_type": "code",
   "execution_count": 2,
   "id": "b56c77f3",
   "metadata": {},
   "outputs": [
    {
     "data": {
      "text/plain": [
       "0"
      ]
     },
     "execution_count": 2,
     "metadata": {},
     "output_type": "execute_result"
    }
   ],
   "source": [
    "8 % -2"
   ]
  },
  {
   "cell_type": "code",
   "execution_count": null,
   "id": "9fc7ca66",
   "metadata": {},
   "outputs": [],
   "source": []
  }
 ],
 "metadata": {
  "kernelspec": {
   "display_name": "Python 3.9.10 64-bit",
   "language": "python",
   "name": "python3"
  },
  "language_info": {
   "codemirror_mode": {
    "name": "ipython",
    "version": 3
   },
   "file_extension": ".py",
   "mimetype": "text/x-python",
   "name": "python",
   "nbconvert_exporter": "python",
   "pygments_lexer": "ipython3",
   "version": "3.9.10"
  },
  "vscode": {
   "interpreter": {
    "hash": "b0fa6594d8f4cbf19f97940f81e996739fb7646882a419484c72d19e05852a7e"
   }
  }
 },
 "nbformat": 4,
 "nbformat_minor": 5
}
